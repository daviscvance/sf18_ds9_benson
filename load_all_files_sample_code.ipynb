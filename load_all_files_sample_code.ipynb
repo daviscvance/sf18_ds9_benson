{
 "cells": [
  {
   "cell_type": "markdown",
   "metadata": {},
   "source": [
    "# Code Snippet\n",
    "Load CSV files (may be compressed) from data sub-dir"
   ]
  },
  {
   "cell_type": "code",
   "execution_count": 1,
   "metadata": {
    "collapsed": true
   },
   "outputs": [],
   "source": [
    "import sys\n",
    "import os\n",
    "import glob"
   ]
  },
  {
   "cell_type": "code",
   "execution_count": 2,
   "metadata": {
    "collapsed": true
   },
   "outputs": [],
   "source": [
    "import pandas as pd"
   ]
  },
  {
   "cell_type": "code",
   "execution_count": 68,
   "metadata": {
    "collapsed": true
   },
   "outputs": [],
   "source": [
    "file_list = glob.glob(\"data/turnstile_*.txt.gz\")\n",
    "\n",
    "df_list = [pd.read_csv(file_name) for file_name in file_list]\n",
    "df = pd.concat(df_list)\n",
    "\n",
    "df.reset_index(inplace=True)\n",
    "\n",
    "def normalize_line(line):\n",
    "    \"\"\"Normalize line list (a line is a single char)\n",
    "    LNQR456W -> 456LNQRW\n",
    "    \"\"\"\n",
    "    return ''.join(sorted(set(line.upper())))\n",
    "\n",
    "df['LINENAME'] = df['LINENAME'].apply(normalize_line)\n",
    "df['STATION'] = df['STATION'] + ' ' + df['LINENAME']\n",
    "df.drop(labels='LINENAME', axis=1, errors='ignore', inplace=True)"
   ]
  },
  {
   "cell_type": "code",
   "execution_count": 69,
   "metadata": {},
   "outputs": [
    {
     "data": {
      "text/plain": [
       "Index(['index', 'C/A', 'UNIT', 'SCP', 'STATION', 'DIVISION', 'DATE', 'TIME',\n",
       "       'DESC', 'ENTRIES',\n",
       "       'EXITS                                                               '],\n",
       "      dtype='object')"
      ]
     },
     "execution_count": 69,
     "metadata": {},
     "output_type": "execute_result"
    }
   ],
   "source": [
    "df.columns"
   ]
  },
  {
   "cell_type": "code",
   "execution_count": 81,
   "metadata": {},
   "outputs": [],
   "source": [
    "station_num_turnstiles = (\n",
    "    df.sort_values(by=['C/A', 'UNIT', 'SCP', 'STATION'])\n",
    "    [['C/A', 'UNIT', 'SCP', 'STATION']].drop_duplicates()\n",
    "    .groupby('STATION')\n",
    "    .apply(lambda x: x.shape[0])\n",
    ")\n",
    "station_num_turnstiles.name = 'Turnstile Counts'"
   ]
  },
  {
   "cell_type": "code",
   "execution_count": 82,
   "metadata": {},
   "outputs": [
    {
     "data": {
      "text/plain": [
       "STATION\n",
       "1 AV L                         10\n",
       "103 ST 1                        6\n",
       "103 ST 6                        6\n",
       "103 ST BC                       3\n",
       "103 ST-CORONA 7                 9\n",
       "104 ST A                        5\n",
       "104 ST JZ                       4\n",
       "110 ST 6                        6\n",
       "111 ST 7                        5\n",
       "111 ST A                        7\n",
       "111 ST J                        4\n",
       "116 ST 23                       8\n",
       "116 ST 6                        8\n",
       "116 ST BC                       6\n",
       "116 ST-COLUMBIA 1               6\n",
       "121 ST JZ                       6\n",
       "125 ST 1                        5\n",
       "125 ST 23                       8\n",
       "125 ST 456                     14\n",
       "125 ST ABCD                    16\n",
       "135 ST 23                      12\n",
       "135 ST BC                      11\n",
       "137 ST CITY COL 1              10\n",
       "138/GRAND CONC 45               3\n",
       "14 ST 123FLM                   33\n",
       "14 ST ACEL                     10\n",
       "14 ST-UNION SQ 456LNQRW        38\n",
       "145 ST 1                        7\n",
       "145 ST 3                        3\n",
       "145 ST ABCD                     9\n",
       "                               ..\n",
       "THIRTY THIRD ST 1              18\n",
       "TIMES SQ-42 ST 1237ACENQRS      9\n",
       "TIMES SQ-42 ST 1237ACENQRSW    41\n",
       "TOMPKINSVILLE 1                 7\n",
       "TREMONT AV BD                   9\n",
       "TWENTY THIRD ST 1               9\n",
       "UNION ST R                      6\n",
       "UTICA AV AC                    13\n",
       "V.CORTLANDT PK 1                4\n",
       "VAN SICLEN AV 3                 5\n",
       "VAN SICLEN AV JZ                3\n",
       "VAN SICLEN AVE C                3\n",
       "VERNON-JACKSON 7               14\n",
       "W 4 ST-WASH SQ ABCDEFM         19\n",
       "W 8 ST-AQUARIUM FQ              8\n",
       "WAKEFIELD/241 2                 5\n",
       "WALL ST 23                     22\n",
       "WALL ST 45                     28\n",
       "WEST FARMS SQ 25                9\n",
       "WESTCHESTER SQ 6                3\n",
       "WHITEHALL S-FRY 1RW            15\n",
       "WHITLOCK AV 6                   6\n",
       "WILSON AV L                     5\n",
       "WINTHROP ST 25                  4\n",
       "WOODHAVEN BLVD JZ               8\n",
       "WOODHAVEN BLVD MR              11\n",
       "WOODLAWN 4                      5\n",
       "WORLD TRADE CTR 23ACE          11\n",
       "YORK ST F                       3\n",
       "ZEREGA AV 6                     6\n",
       "Name: Turnstile Counts, Length: 470, dtype: int64"
      ]
     },
     "execution_count": 82,
     "metadata": {},
     "output_type": "execute_result"
    }
   ],
   "source": [
    "station_num_turnstiles"
   ]
  },
  {
   "cell_type": "code",
   "execution_count": null,
   "metadata": {
    "collapsed": true
   },
   "outputs": [],
   "source": []
  }
 ],
 "metadata": {
  "kernelspec": {
   "display_name": "Python 3",
   "language": "python",
   "name": "python3"
  },
  "language_info": {
   "codemirror_mode": {
    "name": "ipython",
    "version": 3
   },
   "file_extension": ".py",
   "mimetype": "text/x-python",
   "name": "python",
   "nbconvert_exporter": "python",
   "pygments_lexer": "ipython3",
   "version": "3.6.3"
  }
 },
 "nbformat": 4,
 "nbformat_minor": 2
}
